{
 "cells": [
  {
   "cell_type": "markdown",
   "metadata": {
    "cell_id": "00000-1cd05b56-f88e-4ce8-8e4d-a2c046de04b8",
    "colab_type": "text",
    "id": "U-veppCgUJ_q"
   },
   "source": [
    "# Simple Linear Regression\n",
    "\n",
    "In this notebook, we'll build a linear regression model to predict `Sales` using an appropriate predictor variable.\n"
   ]
  },
  {
   "cell_type": "code",
   "execution_count": 1,
   "metadata": {
    "cell_id": "00002-cca403da-69db-4e3f-bc1a-2ed308834538",
    "colab": {},
    "colab_type": "code",
    "id": "oq8M7g_yUJ_s"
   },
   "outputs": [
    {
     "name": "stdout",
     "output_type": "stream",
     "text": [
      "Requirement already satisfied: statsmodels in /opt/venv/lib/python3.7/site-packages (0.12.0)\n",
      "Requirement already satisfied: patsy>=0.5 in /opt/venv/lib/python3.7/site-packages (from statsmodels) (0.5.1)\n",
      "Requirement already satisfied: numpy>=1.15 in /opt/venv/lib/python3.7/site-packages (from statsmodels) (1.19.0)\n",
      "Requirement already satisfied: pandas>=0.21 in /opt/venv/lib/python3.7/site-packages (from statsmodels) (1.0.5)\n",
      "Requirement already satisfied: scipy>=1.1 in /opt/venv/lib/python3.7/site-packages (from statsmodels) (1.5.1)\n",
      "Requirement already satisfied: six in /opt/venv/lib/python3.7/site-packages (from patsy>=0.5->statsmodels) (1.15.0)\n",
      "Requirement already satisfied: pytz>=2017.2 in /opt/venv/lib/python3.7/site-packages (from pandas>=0.21->statsmodels) (2020.1)\n",
      "Requirement already satisfied: python-dateutil>=2.6.1 in /opt/venv/lib/python3.7/site-packages (from pandas>=0.21->statsmodels) (2.8.1)\n",
      "\u001b[33mWARNING: You are using pip version 20.1.1; however, version 20.2.2 is available.\n",
      "You should consider upgrading via the '/opt/venv/bin/python -m pip install --upgrade pip' command.\u001b[0m\n"
     ]
    }
   ],
   "source": [
    "# Supress Warnings and Install packages\n",
    "\n",
    "import warnings\n",
    "warnings.filterwarnings('ignore')\n",
    "!pip install statsmodels"
   ]
  },
  {
   "cell_type": "markdown",
   "metadata": {
    "cell_id": "00003-d280a73e-1cab-4d3f-9ce7-bb0b7cad12f7",
    "tags": []
   },
   "source": [
    "## Step 1: Reading and Understanding the Data\n",
    "\n",
    "Let's start with the following steps:\n",
    "\n",
    "1. Importing data using the pandas library\n",
    "2. Understanding the structure of the data"
   ]
  },
  {
   "cell_type": "code",
   "execution_count": 2,
   "metadata": {
    "cell_id": "00003-27c36a46-7e8f-4d5e-836a-df7a0057599a",
    "colab": {},
    "colab_type": "code",
    "id": "Z4IroWo-UJ_w"
   },
   "outputs": [],
   "source": [
    "# Import the numpy and pandas package\n",
    "\n",
    "import numpy as np\n",
    "import pandas as pd"
   ]
  },
  {
   "cell_type": "markdown",
   "metadata": {
    "cell_id": "00004-22e05fe8-826a-402f-b0c7-768e0816937a",
    "tags": []
   },
   "source": [
    "The dataset contains statistics about the sales of a product in 200 different markets, together with advertising budgets in each of these markets for different media channels: TV, radio and newspaper.\n",
    "The sales are in thousands of units and the budget is in thousands of dollars."
   ]
  },
  {
   "cell_type": "code",
   "execution_count": 3,
   "metadata": {
    "cell_id": "00005-76c122d2-38c1-455a-9eb3-2530e0000c9f",
    "colab": {
     "base_uri": "https://localhost:8080/",
     "height": 194
    },
    "colab_type": "code",
    "id": "rm52Z-2xUJ_z",
    "outputId": "6f22c20c-1ba0-4e34-d83d-5b6c61f63444"
   },
   "outputs": [
    {
     "data": {
      "application/vnd.deepnote.dataframe.v2+json": {
       "column_count": 4,
       "columns": [
        {
         "dtype": "float64",
         "name": "TV",
         "stats": {
          "histogram": [
           {
            "bin_end": 38.489999999999995,
            "bin_start": 17.2,
            "count": 1
           },
           {
            "bin_end": 59.78,
            "bin_start": 38.489999999999995,
            "count": 1
           },
           {
            "bin_end": 81.07,
            "bin_start": 59.78,
            "count": 0
           },
           {
            "bin_end": 102.36,
            "bin_start": 81.07,
            "count": 0
           },
           {
            "bin_end": 123.64999999999999,
            "bin_start": 102.36,
            "count": 0
           },
           {
            "bin_end": 144.94,
            "bin_start": 123.64999999999999,
            "count": 0
           },
           {
            "bin_end": 166.23,
            "bin_start": 144.94,
            "count": 1
           },
           {
            "bin_end": 187.51999999999998,
            "bin_start": 166.23,
            "count": 1
           },
           {
            "bin_end": 208.80999999999997,
            "bin_start": 187.51999999999998,
            "count": 0
           },
           {
            "bin_end": 230.1,
            "bin_start": 208.80999999999997,
            "count": 1
           }
          ],
          "max": 230.1,
          "min": 17.2,
          "nan_count": 0,
          "unique_count": 5
         }
        },
        {
         "dtype": "float64",
         "name": "Radio",
         "stats": {
          "histogram": [
           {
            "bin_end": 14.31,
            "bin_start": 10.8,
            "count": 1
           },
           {
            "bin_end": 17.82,
            "bin_start": 14.31,
            "count": 0
           },
           {
            "bin_end": 21.33,
            "bin_start": 17.82,
            "count": 0
           },
           {
            "bin_end": 24.839999999999996,
            "bin_start": 21.33,
            "count": 0
           },
           {
            "bin_end": 28.349999999999998,
            "bin_start": 24.839999999999996,
            "count": 0
           },
           {
            "bin_end": 31.859999999999996,
            "bin_start": 28.349999999999998,
            "count": 0
           },
           {
            "bin_end": 35.37,
            "bin_start": 31.859999999999996,
            "count": 0
           },
           {
            "bin_end": 38.879999999999995,
            "bin_start": 35.37,
            "count": 1
           },
           {
            "bin_end": 42.38999999999999,
            "bin_start": 38.879999999999995,
            "count": 2
           },
           {
            "bin_end": 45.9,
            "bin_start": 42.38999999999999,
            "count": 1
           }
          ],
          "max": 45.9,
          "min": 10.8,
          "nan_count": 0,
          "unique_count": 5
         }
        },
        {
         "dtype": "float64",
         "name": "Newspaper",
         "stats": {
          "histogram": [
           {
            "bin_end": 47.52,
            "bin_start": 45.1,
            "count": 1
           },
           {
            "bin_end": 49.94,
            "bin_start": 47.52,
            "count": 0
           },
           {
            "bin_end": 52.36,
            "bin_start": 49.94,
            "count": 0
           },
           {
            "bin_end": 54.78,
            "bin_start": 52.36,
            "count": 0
           },
           {
            "bin_end": 57.2,
            "bin_start": 54.78,
            "count": 0
           },
           {
            "bin_end": 59.62,
            "bin_start": 57.2,
            "count": 2
           },
           {
            "bin_end": 62.04,
            "bin_start": 59.62,
            "count": 0
           },
           {
            "bin_end": 64.46,
            "bin_start": 62.04,
            "count": 0
           },
           {
            "bin_end": 66.88,
            "bin_start": 64.46,
            "count": 0
           },
           {
            "bin_end": 69.3,
            "bin_start": 66.88,
            "count": 2
           }
          ],
          "max": 69.3,
          "min": 45.1,
          "nan_count": 0,
          "unique_count": 5
         }
        },
        {
         "dtype": "float64",
         "name": "Sales",
         "stats": {
          "histogram": [
           {
            "bin_end": 11.57,
            "bin_start": 10.4,
            "count": 1
           },
           {
            "bin_end": 12.74,
            "bin_start": 11.57,
            "count": 1
           },
           {
            "bin_end": 13.91,
            "bin_start": 12.74,
            "count": 0
           },
           {
            "bin_end": 15.080000000000002,
            "bin_start": 13.91,
            "count": 0
           },
           {
            "bin_end": 16.25,
            "bin_start": 15.080000000000002,
            "count": 0
           },
           {
            "bin_end": 17.42,
            "bin_start": 16.25,
            "count": 1
           },
           {
            "bin_end": 18.590000000000003,
            "bin_start": 17.42,
            "count": 1
           },
           {
            "bin_end": 19.76,
            "bin_start": 18.590000000000003,
            "count": 0
           },
           {
            "bin_end": 20.93,
            "bin_start": 19.76,
            "count": 0
           },
           {
            "bin_end": 22.1,
            "bin_start": 20.93,
            "count": 1
           }
          ],
          "max": 22.1,
          "min": 10.4,
          "nan_count": 0,
          "unique_count": 5
         }
        },
        {
         "dtype": "int64",
         "name": "_deepnote_index_column"
        }
       ],
       "row_count": 5,
       "rows_bottom": null,
       "rows_top": [
        {
         "Newspaper": 69.2,
         "Radio": 37.8,
         "Sales": 22.1,
         "TV": 230.1,
         "_deepnote_index_column": 0
        },
        {
         "Newspaper": 45.1,
         "Radio": 39.3,
         "Sales": 10.4,
         "TV": 44.5,
         "_deepnote_index_column": 1
        },
        {
         "Newspaper": 69.3,
         "Radio": 45.9,
         "Sales": 12,
         "TV": 17.2,
         "_deepnote_index_column": 2
        },
        {
         "Newspaper": 58.5,
         "Radio": 41.3,
         "Sales": 16.5,
         "TV": 151.5,
         "_deepnote_index_column": 3
        },
        {
         "Newspaper": 58.4,
         "Radio": 10.8,
         "Sales": 17.9,
         "TV": 180.8,
         "_deepnote_index_column": 4
        }
       ]
      },
      "text/html": [
       "<div>\n",
       "<style scoped>\n",
       "    .dataframe tbody tr th:only-of-type {\n",
       "        vertical-align: middle;\n",
       "    }\n",
       "\n",
       "    .dataframe tbody tr th {\n",
       "        vertical-align: top;\n",
       "    }\n",
       "\n",
       "    .dataframe thead th {\n",
       "        text-align: right;\n",
       "    }\n",
       "</style>\n",
       "<table border=\"1\" class=\"dataframe\">\n",
       "  <thead>\n",
       "    <tr style=\"text-align: right;\">\n",
       "      <th></th>\n",
       "      <th>TV</th>\n",
       "      <th>Radio</th>\n",
       "      <th>Newspaper</th>\n",
       "      <th>Sales</th>\n",
       "    </tr>\n",
       "  </thead>\n",
       "  <tbody>\n",
       "    <tr>\n",
       "      <th>0</th>\n",
       "      <td>230.1</td>\n",
       "      <td>37.8</td>\n",
       "      <td>69.2</td>\n",
       "      <td>22.1</td>\n",
       "    </tr>\n",
       "    <tr>\n",
       "      <th>1</th>\n",
       "      <td>44.5</td>\n",
       "      <td>39.3</td>\n",
       "      <td>45.1</td>\n",
       "      <td>10.4</td>\n",
       "    </tr>\n",
       "    <tr>\n",
       "      <th>2</th>\n",
       "      <td>17.2</td>\n",
       "      <td>45.9</td>\n",
       "      <td>69.3</td>\n",
       "      <td>12.0</td>\n",
       "    </tr>\n",
       "    <tr>\n",
       "      <th>3</th>\n",
       "      <td>151.5</td>\n",
       "      <td>41.3</td>\n",
       "      <td>58.5</td>\n",
       "      <td>16.5</td>\n",
       "    </tr>\n",
       "    <tr>\n",
       "      <th>4</th>\n",
       "      <td>180.8</td>\n",
       "      <td>10.8</td>\n",
       "      <td>58.4</td>\n",
       "      <td>17.9</td>\n",
       "    </tr>\n",
       "  </tbody>\n",
       "</table>\n",
       "</div>"
      ],
      "text/plain": [
       "      TV  Radio  Newspaper  Sales\n",
       "0  230.1   37.8       69.2   22.1\n",
       "1   44.5   39.3       45.1   10.4\n",
       "2   17.2   45.9       69.3   12.0\n",
       "3  151.5   41.3       58.5   16.5\n",
       "4  180.8   10.8       58.4   17.9"
      ]
     },
     "execution_count": 3,
     "metadata": {},
     "output_type": "execute_result"
    }
   ],
   "source": [
    "# Read the given CSV file, and view some sample records\n",
    "\n",
    "advertising = pd.read_csv(\"advertising.csv\")\n",
    "advertising.head()"
   ]
  },
  {
   "cell_type": "markdown",
   "metadata": {
    "cell_id": "00006-2c36eca7-c58b-4157-893f-c02bb8a8b895",
    "colab_type": "text",
    "id": "G-Hqb3HWUJ_4"
   },
   "source": [
    "Let's inspect the various aspects of our dataframe"
   ]
  },
  {
   "cell_type": "code",
   "execution_count": 4,
   "metadata": {
    "cell_id": "00007-a4ea9c01-d6fb-4c91-9331-539bc0ba3815",
    "colab": {
     "base_uri": "https://localhost:8080/",
     "height": 35
    },
    "colab_type": "code",
    "id": "Y-zkApTsUJ_5",
    "outputId": "775f1895-9fa7-41e4-ef37-11b7922dce2c",
    "scrolled": true
   },
   "outputs": [
    {
     "data": {
      "text/plain": [
       "(200, 4)"
      ]
     },
     "execution_count": 4,
     "metadata": {},
     "output_type": "execute_result"
    }
   ],
   "source": [
    "advertising.shape"
   ]
  },
  {
   "cell_type": "code",
   "execution_count": 5,
   "metadata": {
    "cell_id": "00008-21ce3dc0-6fe0-4444-b786-ab174f664927",
    "colab": {
     "base_uri": "https://localhost:8080/",
     "height": 212
    },
    "colab_type": "code",
    "id": "AZeOfRV8UJ_9",
    "outputId": "dc6a89d9-2e31-45ae-8869-2e3f4da29559"
   },
   "outputs": [
    {
     "name": "stdout",
     "output_type": "stream",
     "text": [
      "<class 'pandas.core.frame.DataFrame'>\n",
      "RangeIndex: 200 entries, 0 to 199\n",
      "Data columns (total 4 columns):\n",
      " #   Column     Non-Null Count  Dtype  \n",
      "---  ------     --------------  -----  \n",
      " 0   TV         200 non-null    float64\n",
      " 1   Radio      200 non-null    float64\n",
      " 2   Newspaper  200 non-null    float64\n",
      " 3   Sales      200 non-null    float64\n",
      "dtypes: float64(4)\n",
      "memory usage: 6.4 KB\n"
     ]
    }
   ],
   "source": [
    "advertising.info()"
   ]
  },
  {
   "cell_type": "code",
   "execution_count": 1,
   "metadata": {
    "cell_id": "00009-ff4a79ba-5139-47ba-b9a1-6c6ac6f8c0f3",
    "colab": {
     "base_uri": "https://localhost:8080/",
     "height": 282
    },
    "colab_type": "code",
    "id": "ANIiFq0AUKAB",
    "outputId": "bb2d5d44-2fc5-4a08-ff01-999b57f32823"
   },
   "outputs": [
    {
     "ename": "NameError",
     "evalue": "name 'advertising' is not defined",
     "output_type": "error",
     "traceback": [
      "\u001b[1;31m---------------------------------------------------------------------------\u001b[0m",
      "\u001b[1;31mNameError\u001b[0m                                 Traceback (most recent call last)",
      "\u001b[1;32m<ipython-input-1-407a5d3310d1>\u001b[0m in \u001b[0;36m<module>\u001b[1;34m\u001b[0m\n\u001b[1;32m----> 1\u001b[1;33m \u001b[0madvertising\u001b[0m\u001b[1;33m.\u001b[0m\u001b[0mdescribe\u001b[0m\u001b[1;33m(\u001b[0m\u001b[1;33m)\u001b[0m\u001b[1;33m\u001b[0m\u001b[1;33m\u001b[0m\u001b[0m\n\u001b[0m",
      "\u001b[1;31mNameError\u001b[0m: name 'advertising' is not defined"
     ]
    }
   ],
   "source": [
    "advertising.describe()"
   ]
  },
  {
   "cell_type": "markdown",
   "metadata": {
    "cell_id": "00010-680a3285-559f-426a-bec6-8cba825c1760",
    "colab_type": "text",
    "id": "NH0sBrGuUKAF"
   },
   "source": [
    "## Step 2: Visualising the Data\n",
    "\n",
    "Let's now visualise our data using seaborn. We'll first make a pairplot of all the variables present to visualise which variables are most correlated to `Sales`."
   ]
  },
  {
   "cell_type": "code",
   "execution_count": null,
   "metadata": {
    "cell_id": "00011-2b4129f6-0900-43c1-ba97-1f542c35d40d",
    "colab": {},
    "colab_type": "code",
    "id": "8Bm5R-PgUKAH"
   },
   "outputs": [],
   "source": [
    "import matplotlib.pyplot as plt \n",
    "import seaborn as sns"
   ]
  },
  {
   "cell_type": "code",
   "execution_count": 8,
   "metadata": {
    "cell_id": "00012-1328e6a5-63da-46c4-849f-98d0ef0231a6",
    "colab": {
     "base_uri": "https://localhost:8080/",
     "height": 315
    },
    "colab_type": "code",
    "id": "lW7CAUszUKAK",
    "outputId": "08525b59-760e-467e-af79-8251ccb497ac"
   },
   "outputs": [
    {
     "data": {
      "image/png": "[encoded data removed]",
      "text/plain": [
       "<Figure size 864x288 with 3 Axes>"
      ]
     },
     "metadata": {
      "needs_background": "light"
     },
     "output_type": "display_data"
    }
   ],
   "source": [
    "sns.pairplot(advertising, x_vars=['TV', 'Newspaper', 'Radio'], y_vars='Sales',size=4, aspect=1, kind='scatter')\n",
    "plt.show()"
   ]
  },
  {
   "cell_type": "code",
   "execution_count": 9,
   "metadata": {
    "cell_id": "00013-7bea8a00-8204-480b-bdeb-6eef3ac771e0",
    "colab": {
     "base_uri": "https://localhost:8080/",
     "height": 269
    },
    "colab_type": "code",
    "id": "xKcx_sHWUKAN",
    "outputId": "3447e8a4-4497-4587-8ef3-4d85d5d6f51e"
   },
   "outputs": [
    {
     "data": {
      "image/png": "[encoded data removed]",
      "text/plain": [
       "<Figure size 432x288 with 2 Axes>"
      ]
     },
     "metadata": {
      "needs_background": "light"
     },
     "output_type": "display_data"
    }
   ],
   "source": [
    "sns.heatmap(advertising.corr(), cmap=\"YlGnBu\", annot = True)\n",
    "plt.show()"
   ]
  },
  {
   "cell_type": "markdown",
   "metadata": {
    "cell_id": "00014-71fb990c-705d-4477-a183-9b16b6d9b926",
    "colab_type": "text",
    "id": "GflgrfY9UKAQ"
   },
   "source": [
    "As is visible from the pairplot and the heatmap, the variable `TV` seems to be most correlated with `Sales`. So let's go ahead and perform simple linear regression using `TV` as our feature variable."
   ]
  },
  {
   "cell_type": "markdown",
   "metadata": {
    "cell_id": "00015-71f15200-6759-4c5b-9ae4-4eb3c3eed80b",
    "colab_type": "text",
    "id": "lWRMCfslUKAQ"
   },
   "source": [
    "---\n",
    "## Step 3: Performing Simple Linear Regression\n",
    "\n",
    "Equation of linear regression<br>\n",
    "$y = c + m_1x_1 + m_2x_2 + ... + m_nx_n$\n",
    "\n",
    "-  $y$ is the response\n",
    "-  $c$ is the intercept\n",
    "-  $m_1$ is the coefficient for the first feature\n",
    "-  $m_n$ is the coefficient for the nth feature<br>\n",
    "\n",
    "In our case:\n",
    "\n",
    "$y = c + m_1 \\times TV$\n",
    "\n",
    "The $m$ values are called the model **coefficients** or **model parameters**.\n",
    "\n",
    "---"
   ]
  },
  {
   "cell_type": "markdown",
   "metadata": {
    "cell_id": "00016-978df0af-72ad-4164-becf-ef328558974b",
    "colab_type": "text",
    "id": "BJYE6cWpUKAR"
   },
   "source": [
    "### Generic Steps in model building using `statsmodels`\n",
    "\n",
    "We first assign the feature variable, `TV`, in this case, to the variable `X` and the response variable, `Sales`, to the variable `y`."
   ]
  },
  {
   "cell_type": "code",
   "execution_count": 10,
   "metadata": {
    "cell_id": "00017-8c125a2a-ca18-4a6f-8ce5-05e528ca0bf6",
    "colab": {},
    "colab_type": "code",
    "id": "bICGWip8UKAR"
   },
   "outputs": [],
   "source": [
    "X = advertising['TV']\n",
    "y = advertising['Sales']"
   ]
  },
  {
   "cell_type": "markdown",
   "metadata": {
    "cell_id": "00018-abf2dbbb-5b54-428a-bc75-0e1d1a5dcc63",
    "colab_type": "text",
    "id": "h6yVAm7BUKAU"
   },
   "source": [
    "#### Train-Test Split\n",
    "\n",
    "You now need to split our variable into training and testing sets. You'll perform this by importing `train_test_split` from the `sklearn.model_selection` library. It is usually a good practice to keep 70% of the data in your train dataset and the rest 30% in your test dataset"
   ]
  },
  {
   "cell_type": "code",
   "execution_count": 11,
   "metadata": {
    "cell_id": "00019-679e2400-819a-44b3-a235-1ba03c687955",
    "colab": {},
    "colab_type": "code",
    "id": "COAx6V8yUKAV"
   },
   "outputs": [],
   "source": [
    "sn"
   ]
  },
  {
   "cell_type": "code",
   "execution_count": 12,
   "metadata": {
    "cell_id": "00020-1f4962d3-83f2-432f-8f89-76691a5753f4",
    "colab": {
     "base_uri": "https://localhost:8080/",
     "height": 124
    },
    "colab_type": "code",
    "id": "AGguqY4xUKAX",
    "outputId": "82e77986-54d3-4fa5-9c0d-d98c698933ca"
   },
   "outputs": [
    {
     "data": {
      "text/plain": [
       "74     213.4\n",
       "3      151.5\n",
       "185    205.0\n",
       "26     142.9\n",
       "90     134.3\n",
       "Name: TV, dtype: float64"
      ]
     },
     "execution_count": 12,
     "metadata": {},
     "output_type": "execute_result"
    }
   ],
   "source": [
    "# Let's now take a look at the train dataset\n",
    "\n",
    "X_train.head()"
   ]
  },
  {
   "cell_type": "code",
   "execution_count": 13,
   "metadata": {
    "cell_id": "00021-b832af07-e609-4e2a-a96d-f006df1e0579",
    "colab": {
     "base_uri": "https://localhost:8080/",
     "height": 124
    },
    "colab_type": "code",
    "id": "FKCaRsdtUKAa",
    "outputId": "37432ff8-f011-4643-cbd4-6f46ead20c81"
   },
   "outputs": [
    {
     "data": {
      "text/plain": [
       "74     17.0\n",
       "3      16.5\n",
       "185    22.6\n",
       "26     15.0\n",
       "90     14.0\n",
       "Name: Sales, dtype: float64"
      ]
     },
     "execution_count": 13,
     "metadata": {},
     "output_type": "execute_result"
    }
   ],
   "source": [
    "y_train.head()"
   ]
  },
  {
   "cell_type": "markdown",
   "metadata": {
    "cell_id": "00022-58165eba-e573-4e3e-90e2-9cfe8e81b37b",
    "colab_type": "text",
    "id": "Muj5y-zTUKAc"
   },
   "source": [
    "#### Building a Linear Model\n",
    "\n",
    "You first need to import the `statsmodel.api` library using which you'll perform the linear regression."
   ]
  },
  {
   "cell_type": "code",
   "execution_count": 14,
   "metadata": {
    "cell_id": "00023-5ee3db4a-652b-4479-89ca-922ad8f1e4fd",
    "colab": {},
    "colab_type": "code",
    "id": "ERkMEqVNUKAc"
   },
   "outputs": [],
   "source": [
    "import statsmodels.api as sm"
   ]
  },
  {
   "cell_type": "markdown",
   "metadata": {
    "cell_id": "00024-08bcebc2-aea3-47f7-b4b1-2068fa9d40ed",
    "colab_type": "text",
    "id": "8RapOgH7UKAe"
   },
   "source": [
    "By default, the `statsmodels` library fits a line on the dataset which passes through the origin. But in order to have an intercept, you need to manually use the `add_constant` attribute of `statsmodels`. And once you've added the constant to your `X_train` dataset, you can go ahead and fit a regression line using the `OLS` (Ordinary Least Squares) attribute of `statsmodels` as shown below"
   ]
  },
  {
   "cell_type": "markdown",
   "metadata": {
    "cell_id": "00025-36bb452b-b518-4ae3-978b-c7a2dfb49b1c",
    "tags": []
   },
   "source": [
    "To use OLS method, we apply the below formula to find the equation\n",
    "\n",
    "![link](https://miro.medium.com/max/234/1*ypggCCmwRs4tjXqscH8N4Q.png)\n",
    "\n",
    "![](https://miro.medium.com/max/353/1*_wFBlqEDEzOp6Tx3suNj2g.png)"
   ]
  },
  {
   "cell_type": "code",
   "execution_count": 15,
   "metadata": {
    "cell_id": "00025-792acfd7-4e1f-4d3c-b6cd-1eab7a5fbb24",
    "colab": {},
    "colab_type": "code",
    "id": "UTUPe6WRUKAf"
   },
   "outputs": [],
   "source": [
    "# Add a constant to get an intercept\n",
    "X_train_sm = sm.add_constant(X_train)\n",
    "\n",
    "# Fit the resgression line using 'OLS'\n",
    "lr = sm.OLS(y_train, X_train_sm).fit() "
   ]
  },
  {
   "cell_type": "code",
   "execution_count": 16,
   "metadata": {
    "cell_id": "00026-3ab823c0-8b25-4cea-9df8-c11c84a71632",
    "colab": {
     "base_uri": "https://localhost:8080/",
     "height": 70
    },
    "colab_type": "code",
    "id": "m0RoXeqnUKAh",
    "outputId": "549d9ae1-7fe3-47b0-e8ba-d9f0cf13afc0"
   },
   "outputs": [
    {
     "data": {
      "text/plain": [
       "const    6.948683\n",
       "TV       0.054546\n",
       "dtype: float64"
      ]
     },
     "execution_count": 16,
     "metadata": {},
     "output_type": "execute_result"
    }
   ],
   "source": [
    "# Print the parameters, i.e. the intercept and the slope of the regression line fitted\n",
    "lr.params"
   ]
  },
  {
   "cell_type": "code",
   "execution_count": 17,
   "metadata": {
    "cell_id": "00027-88771041-0c91-47fe-95f0-76fee5457ca2",
    "colab": {
     "base_uri": "https://localhost:8080/",
     "height": 461
    },
    "colab_type": "code",
    "id": "hvaQwlomUKAk",
    "outputId": "850ebc92-e00d-4942-cc7b-0d77dbe103b4"
   },
   "outputs": [
    {
     "name": "stdout",
     "output_type": "stream",
     "text": [
      "                            OLS Regression Results                            \n",
      "==============================================================================\n",
      "Dep. Variable:                  Sales   R-squared:                       0.816\n",
      "Model:                            OLS   Adj. R-squared:                  0.814\n",
      "Method:                 Least Squares   F-statistic:                     611.2\n",
      "Date:                Wed, 02 Sep 2020   Prob (F-statistic):           1.52e-52\n",
      "Time:                        12:54:47   Log-Likelihood:                -321.12\n",
      "No. Observations:                 140   AIC:                             646.2\n",
      "Df Residuals:                     138   BIC:                             652.1\n",
      "Df Model:                           1                                         \n",
      "Covariance Type:            nonrobust                                         \n",
      "==============================================================================\n",
      "                 coef    std err          t      P>|t|      [0.025      0.975]\n",
      "------------------------------------------------------------------------------\n",
      "const          6.9487      0.385     18.068      0.000       6.188       7.709\n",
      "TV             0.0545      0.002     24.722      0.000       0.050       0.059\n",
      "==============================================================================\n",
      "Omnibus:                        0.027   Durbin-Watson:                   2.196\n",
      "Prob(Omnibus):                  0.987   Jarque-Bera (JB):                0.150\n",
      "Skew:                          -0.006   Prob(JB):                        0.928\n",
      "Kurtosis:                       2.840   Cond. No.                         328.\n",
      "==============================================================================\n",
      "\n",
      "Notes:\n",
      "[1] Standard Errors assume that the covariance matrix of the errors is correctly specified.\n"
     ]
    }
   ],
   "source": [
    "# Performing a summary operation lists out all the different parameters of the regression line fitted\n",
    "print(lr.summary())"
   ]
  },
  {
   "cell_type": "markdown",
   "metadata": {
    "cell_id": "00028-10aeda5e-4aa2-48fc-a475-562dc67fd2eb",
    "colab_type": "text",
    "id": "FNfgGS7CUKAm"
   },
   "source": [
    "####  Looking at some key statistics from the summary"
   ]
  },
  {
   "cell_type": "markdown",
   "metadata": {
    "cell_id": "00029-ffadbb56-7153-4ee9-8ce0-c3138a2a240b",
    "colab_type": "text",
    "id": "3C_6e84XUKAm"
   },
   "source": [
    "The values we are concerned with are - \n",
    "1. The coefficients and significance (p-values)\n",
    "2. R-squared\n",
    "3. F statistic and its significance"
   ]
  },
  {
   "cell_type": "markdown",
   "metadata": {
    "cell_id": "00030-53cb1d3a-68b1-485a-84e5-d3b8a56a34e8",
    "colab_type": "text",
    "id": "whvx7nTqUKAn"
   },
   "source": [
    "##### 1. The coefficient for TV is 0.054, with a very low p value\n",
    "The coefficient is statistically significant. So the association is not purely by chance. "
   ]
  },
  {
   "cell_type": "markdown",
   "metadata": {
    "cell_id": "00031-2eeecc8d-b462-465c-843a-becc7a1c7d47",
    "colab_type": "text",
    "id": "kGUVe2YYUKAn"
   },
   "source": [
    "##### 2. R - squared is 0.816\n",
    "Meaning that 81.6% of the variance in `Sales` is explained by `TV`\n",
    "\n",
    "This is a decent R-squared value."
   ]
  },
  {
   "cell_type": "markdown",
   "metadata": {
    "cell_id": "00032-407bef53-ef4f-41c2-885a-7bd1def3d46e",
    "colab_type": "text",
    "id": "x2I-A50vUKAn"
   },
   "source": [
    "###### 3. F statistic has a very low p value (practically low)\n",
    "Meaning that the model fit is statistically significant, and the explained variance isn't purely by chance."
   ]
  },
  {
   "cell_type": "markdown",
   "metadata": {
    "cell_id": "00033-8d14dfdb-b5ee-4f5c-af05-b8079726ff68",
    "colab_type": "text",
    "id": "sr53eESoUKAo"
   },
   "source": [
    "---\n",
    "The fit is significant. Let's visualize how well the model fit the data.\n",
    "\n",
    "From the parameters that we get, our linear regression equation becomes:\n",
    "\n",
    "$ Sales = 6.948 + 0.054 \\times TV $"
   ]
  },
  {
   "cell_type": "code",
   "execution_count": 18,
   "metadata": {
    "cell_id": "00034-4de7e205-63c9-4945-b802-476c0fadf984",
    "colab": {
     "base_uri": "https://localhost:8080/",
     "height": 265
    },
    "colab_type": "code",
    "id": "P-dwMRmXUKAo",
    "outputId": "6d8cc164-7110-4e80-a70a-b921d80c4929",
    "scrolled": true
   },
   "outputs": [
    {
     "data": {
      "image/png": "[encoded data removed]",
      "text/plain": [
       "<Figure size 432x288 with 1 Axes>"
      ]
     },
     "metadata": {
      "needs_background": "light"
     },
     "output_type": "display_data"
    }
   ],
   "source": [
    "plt.scatter(X_train, y_train)\n",
    "plt.plot(X_train, 6.948 + 0.054*X_train, 'r')\n",
    "plt.show()"
   ]
  },
  {
   "cell_type": "markdown",
   "metadata": {
    "cell_id": "00035-8fab740f-0071-4841-8bab-d5cf93907c1c",
    "colab_type": "text",
    "id": "c0_PZxh2UKAq"
   },
   "source": [
    "## Step 4: Residual analysis \n",
    "To validate assumptions of the model, and hence the reliability for inference"
   ]
  },
  {
   "cell_type": "markdown",
   "metadata": {
    "cell_id": "00036-8c8ef683-91b3-40c5-9b09-2e3feb5a6f7a",
    "colab_type": "text",
    "id": "mfMSr_IbUKAq"
   },
   "source": [
    "#### Distribution of the error terms\n",
    "We need to check if the error terms are also normally distributed (which is infact, one of the major assumptions of linear regression), let us plot the histogram of the error terms and see what it looks like."
   ]
  },
  {
   "cell_type": "code",
   "execution_count": 19,
   "metadata": {
    "cell_id": "00037-d4c45f2d-d301-412d-806e-76dac6ac8069",
    "colab": {},
    "colab_type": "code",
    "id": "7e7ScDEMUKAr"
   },
   "outputs": [],
   "source": [
    "y_train_pred = lr.predict(X_train_sm)\n",
    "res = (y_train - y_train_pred)"
   ]
  },
  {
   "cell_type": "code",
   "execution_count": 20,
   "metadata": {
    "cell_id": "00038-94f805c6-deba-470c-9e57-fe9ea6ad1f6d",
    "colab": {
     "base_uri": "https://localhost:8080/",
     "height": 314
    },
    "colab_type": "code",
    "id": "kT7_X5X2UKAt",
    "outputId": "7d7f4710-4ea0-409f-cd38-e6cb714ce232",
    "scrolled": true
   },
   "outputs": [
    {
     "data": {
      "image/png": "[encoded data removed]",
      "text/plain": [
       "<Figure size 432x288 with 1 Axes>"
      ]
     },
     "metadata": {
      "needs_background": "light"
     },
     "output_type": "display_data"
    }
   ],
   "source": [
    "fig = plt.figure()\n",
    "sns.distplot(res, bins = 15)\n",
    "fig.suptitle('Error Terms', fontsize = 15)                  # Plot heading \n",
    "plt.xlabel('y_train - y_train_pred', fontsize = 15)         # X-label\n",
    "plt.show()"
   ]
  },
  {
   "cell_type": "markdown",
   "metadata": {
    "cell_id": "00039-6e8a6b33-80a7-4e46-b981-0b58ef2c1b69",
    "colab_type": "text",
    "id": "D9pnyS-uUKAv"
   },
   "source": [
    "The residuals are following the normally distributed with a mean 0. All good!"
   ]
  },
  {
   "cell_type": "markdown",
   "metadata": {
    "cell_id": "00040-16070471-b3ed-4525-87de-5e3ed41dc423",
    "colab_type": "text",
    "id": "WUkN_J56UKAv"
   },
   "source": [
    "#### Looking for patterns in the residuals"
   ]
  },
  {
   "cell_type": "code",
   "execution_count": 21,
   "metadata": {
    "cell_id": "00041-8ed7364b-03d2-42cb-b0d4-f1ff815a8b87",
    "colab": {
     "base_uri": "https://localhost:8080/",
     "height": 265
    },
    "colab_type": "code",
    "id": "Xo6fCxPzUKAw",
    "outputId": "611daf73-2663-4bce-9346-ae6d95080a67"
   },
   "outputs": [
    {
     "data": {
      "image/png": "[encoded data removed]",
      "text/plain": [
       "<Figure size 432x288 with 1 Axes>"
      ]
     },
     "metadata": {
      "needs_background": "light"
     },
     "output_type": "display_data"
    }
   ],
   "source": [
    "plt.scatter(X_train,res)\n",
    "plt.show()"
   ]
  },
  {
   "cell_type": "markdown",
   "metadata": {
    "cell_id": "00042-718f3f51-1981-40d0-b165-c76a490dc25d",
    "colab_type": "text",
    "id": "vPpR-5vZUKAy"
   },
   "source": [
    "We are confident that the model fit isn't by chance, and has decent predictive power. The normality of residual terms allows some inference on the coefficients.\n",
    "\n",
    "Although, the variance of residuals increasing with X indicates that there is significant variation that this model is unable to explain."
   ]
  },
  {
   "cell_type": "markdown",
   "metadata": {
    "cell_id": "00043-ab4ea9a2-43d0-4584-93bf-1e0bbe2b531b",
    "colab_type": "text",
    "id": "k1nqwckAUKAz"
   },
   "source": [
    "As you can see, the regression line is a pretty good fit to the data"
   ]
  },
  {
   "cell_type": "markdown",
   "metadata": {
    "cell_id": "00044-5521b9d6-d116-4ccf-bc5b-e85a8ee0f7ff",
    "colab_type": "text",
    "id": "gt2kDiFiUKAz"
   },
   "source": [
    "## Step 5: Predictions on the Test Set\n",
    "\n",
    "Now that you have fitted a regression line on your train dataset, it's time to make some predictions on the test data. For this, you first need to add a constant to the `X_test` data like you did for `X_train` and then you can simply go on and predict the y values corresponding to `X_test` using the `predict` attribute of the fitted regression line."
   ]
  },
  {
   "cell_type": "code",
   "execution_count": 22,
   "metadata": {
    "cell_id": "00045-f181a0b4-07dc-4f49-b9f7-d1843295b7f0",
    "colab": {},
    "colab_type": "code",
    "id": "DGj_vkM6UKAz"
   },
   "outputs": [],
   "source": [
    "# Add a constant to X_test\n",
    "X_test_sm = sm.add_constant(X_test)\n",
    "\n",
    "# Predict the y values corresponding to X_test_sm\n",
    "y_pred = lr.predict(X_test_sm)"
   ]
  },
  {
   "cell_type": "code",
   "execution_count": 23,
   "metadata": {
    "cell_id": "00046-0a0b68c1-a2cb-4308-90f7-ad30991985bb",
    "colab": {
     "base_uri": "https://localhost:8080/",
     "height": 124
    },
    "colab_type": "code",
    "id": "pntKhTeRUKA2",
    "outputId": "95f50029-4dc3-4fe8-d726-5cac6565b5c3"
   },
   "outputs": [
    {
     "data": {
      "text/plain": [
       "126     7.374140\n",
       "104    19.941482\n",
       "99     14.323269\n",
       "92     18.823294\n",
       "111    20.132392\n",
       "dtype: float64"
      ]
     },
     "execution_count": 23,
     "metadata": {},
     "output_type": "execute_result"
    }
   ],
   "source": [
    "y_pred.head()"
   ]
  },
  {
   "cell_type": "code",
   "execution_count": 24,
   "metadata": {
    "cell_id": "00047-bc35dedd-84d0-4787-8afa-cbc016400552",
    "colab": {},
    "colab_type": "code",
    "id": "YJhCjaezUKA4"
   },
   "outputs": [],
   "source": [
    "from sklearn.metrics import mean_squared_error\n",
    "from sklearn.metrics import r2_score"
   ]
  },
  {
   "cell_type": "markdown",
   "metadata": {
    "cell_id": "00048-98d7bf36-7c29-4649-bb5b-c17eef17a938",
    "colab_type": "text",
    "id": "iKxsHnc7UKA5"
   },
   "source": [
    "##### Looking at the RMSE"
   ]
  },
  {
   "cell_type": "code",
   "execution_count": 25,
   "metadata": {
    "cell_id": "00049-f988666e-581f-4054-861e-ddc654da801e",
    "colab": {
     "base_uri": "https://localhost:8080/",
     "height": 35
    },
    "colab_type": "code",
    "id": "rIBAAJAqUKA6",
    "outputId": "00c67f67-e4c1-4a4e-9be3-ccf672f8c7e8"
   },
   "outputs": [
    {
     "data": {
      "text/plain": [
       "2.019296008966232"
      ]
     },
     "execution_count": 25,
     "metadata": {},
     "output_type": "execute_result"
    }
   ],
   "source": [
    "#Returns the mean squared error; we'll take a square root\n",
    "np.sqrt(mean_squared_error(y_test, y_pred))"
   ]
  },
  {
   "cell_type": "markdown",
   "metadata": {
    "cell_id": "00050-7645b9e7-c51c-495c-b712-167d4d2ae492",
    "colab_type": "text",
    "id": "WjMN7JWfUKA7"
   },
   "source": [
    "###### Checking the R-squared on the test set"
   ]
  },
  {
   "cell_type": "code",
   "execution_count": 26,
   "metadata": {
    "cell_id": "00051-0a6f2297-f55d-4d03-a9d1-e9c41b65fe78",
    "colab": {
     "base_uri": "https://localhost:8080/",
     "height": 35
    },
    "colab_type": "code",
    "id": "nwQGr0vRUKA8",
    "outputId": "f490dc58-e6f3-4d9e-8f26-ff2ec703de95"
   },
   "outputs": [
    {
     "data": {
      "text/plain": [
       "0.792103160124566"
      ]
     },
     "execution_count": 26,
     "metadata": {},
     "output_type": "execute_result"
    }
   ],
   "source": [
    "r_squared = r2_score(y_test, y_pred)\n",
    "r_squared"
   ]
  },
  {
   "cell_type": "markdown",
   "metadata": {
    "cell_id": "00052-f1106200-15e5-4dc7-a720-7a98bc520654",
    "colab_type": "text",
    "id": "IMlQ-QiMUKA-"
   },
   "source": [
    "##### Visualizing the fit on the test set"
   ]
  },
  {
   "cell_type": "code",
   "execution_count": 27,
   "metadata": {
    "cell_id": "00053-33709a84-9ec2-483a-a256-c82fe379a40c",
    "colab": {
     "base_uri": "https://localhost:8080/",
     "height": 265
    },
    "colab_type": "code",
    "id": "X2ryBG8yUKA-",
    "outputId": "00aa2d0e-784e-43d7-8b8a-40a0fb816295",
    "scrolled": true
   },
   "outputs": [
    {
     "data": {
      "image/png": "[encoded data removed]",
      "text/plain": [
       "<Figure size 432x288 with 1 Axes>"
      ]
     },
     "metadata": {
      "needs_background": "light"
     },
     "output_type": "display_data"
    }
   ],
   "source": [
    "plt.scatter(X_test, y_test)\n",
    "plt.plot(X_test, 6.948 + 0.054 * X_test, 'r')\n",
    "plt.show()"
   ]
  },
  {
   "cell_type": "markdown",
   "metadata": {
    "cell_id": "00054-fb4d3bfd-c8db-464b-8f32-55011fea1dda",
    "colab_type": "text",
    "id": "zybhQL42UKBB"
   },
   "source": [
    "### Linear Regression using `linear_model` in `sklearn`\n",
    "\n",
    "Apart from `statsmodels`, there is another package namely `sklearn` that can be used to perform linear regression. We will use the `linear_model` library from `sklearn` to build the model. Since, we hae already performed a train-test split, we don't need to do it again.\n",
    "\n",
    "There's one small step that we need to add, though. When there's only a single feature, we need to add an additional column in order for the linear regression fit to be performed successfully."
   ]
  },
  {
   "cell_type": "code",
   "execution_count": 28,
   "metadata": {
    "cell_id": "00055-24413bb9-8f31-4045-98e7-bc177bc23353",
    "colab": {},
    "colab_type": "code",
    "id": "LcjZXgh5UKBC"
   },
   "outputs": [],
   "source": [
    "from sklearn.model_selection import train_test_split\n",
    "X_train_lm, X_test_lm, y_train_lm, y_test_lm = train_test_split(X, y, train_size = 0.7, test_size = 0.3, random_state = 100)"
   ]
  },
  {
   "cell_type": "code",
   "execution_count": 29,
   "metadata": {
    "cell_id": "00056-409bdcdf-5b67-4e8f-8513-2848a9dd6aa4",
    "colab": {
     "base_uri": "https://localhost:8080/",
     "height": 35
    },
    "colab_type": "code",
    "id": "t5-YYSSaUKBD",
    "outputId": "187709a5-51bc-46ce-9131-33e8530275e6"
   },
   "outputs": [
    {
     "data": {
      "text/plain": [
       "(140,)"
      ]
     },
     "execution_count": 29,
     "metadata": {},
     "output_type": "execute_result"
    }
   ],
   "source": [
    "X_train_lm.shape"
   ]
  },
  {
   "cell_type": "code",
   "execution_count": 30,
   "metadata": {
    "cell_id": "00057-ae5e0ea4-59ab-41e3-8068-2f70d8c208c8",
    "colab": {},
    "colab_type": "code",
    "id": "FcFOnqsHUKBI"
   },
   "outputs": [],
   "source": [
    "X_train_lm = X_train_lm.values.reshape(-1,1)\n",
    "X_test_lm = X_test_lm.values.reshape(-1,1)"
   ]
  },
  {
   "cell_type": "code",
   "execution_count": 31,
   "metadata": {
    "cell_id": "00058-e89971d8-adfd-4a24-ae65-33190f7814ef",
    "colab": {
     "base_uri": "https://localhost:8080/",
     "height": 88
    },
    "colab_type": "code",
    "id": "-kBCkwkZUKBK",
    "outputId": "1627da05-06c9-4933-c94b-4960164584d1"
   },
   "outputs": [
    {
     "name": "stdout",
     "output_type": "stream",
     "text": [
      "(140, 1)\n",
      "(140,)\n",
      "(60, 1)\n",
      "(60,)\n"
     ]
    }
   ],
   "source": [
    "print(X_train_lm.shape)\n",
    "print(y_train_lm.shape)\n",
    "print(X_test_lm.shape)\n",
    "print(y_test_lm.shape)"
   ]
  },
  {
   "cell_type": "code",
   "execution_count": 32,
   "metadata": {
    "cell_id": "00059-600e11b3-61f1-48f8-9ed9-27eaf69f0a8f",
    "colab": {
     "base_uri": "https://localhost:8080/",
     "height": 35
    },
    "colab_type": "code",
    "id": "oDZQaNxYUKBN",
    "outputId": "aaefaa29-eabc-449e-d218-eeae66dd4abe"
   },
   "outputs": [
    {
     "data": {
      "text/plain": [
       "LinearRegression()"
      ]
     },
     "execution_count": 32,
     "metadata": {},
     "output_type": "execute_result"
    }
   ],
   "source": [
    "from sklearn.linear_model import LinearRegression\n",
    "\n",
    "# Representing LinearRegression as lr(Creating LinearRegression Object)\n",
    "lm = LinearRegression()\n",
    "\n",
    "# Fit the model using lr.fit()\n",
    "lm.fit(X_train_lm, y_train_lm)"
   ]
  },
  {
   "cell_type": "code",
   "execution_count": 33,
   "metadata": {
    "cell_id": "00060-27955147-7359-44fe-aaea-809b200fe3cb",
    "colab": {
     "base_uri": "https://localhost:8080/",
     "height": 52
    },
    "colab_type": "code",
    "id": "caEFytj9UKBP",
    "outputId": "c8cb1d1e-a403-4ff0-e257-315a17359d1d"
   },
   "outputs": [
    {
     "name": "stdout",
     "output_type": "stream",
     "text": [
      "6.948683200001357\n",
      "[0.05454575]\n"
     ]
    }
   ],
   "source": [
    "print(lm.intercept_)\n",
    "print(lm.coef_)"
   ]
  },
  {
   "cell_type": "markdown",
   "metadata": {
    "cell_id": "00061-b7d81054-4c3f-4696-b628-20c5b719ee6a",
    "colab_type": "text",
    "id": "1PafxnDyUKBR"
   },
   "source": [
    "The equationwe get is the same as what we got before!\n",
    "\n",
    "$ Sales = 6.948 + 0.054* TV $"
   ]
  },
  {
   "cell_type": "markdown",
   "metadata": {
    "cell_id": "00062-aec1a0e2-f4fd-46e7-a9a2-1c4115d7d3a5",
    "colab_type": "text",
    "id": "Ohufa8-oUKBS"
   },
   "source": [
    "Sklearn linear model is useful as it is compatible with a lot of sklearn utilites (cross validation, grid search etc.)"
   ]
  },
  {
   "cell_type": "code",
   "execution_count": 41,
   "metadata": {
    "cell_id": "00063-a451d445-e3a0-4973-b0e7-7b1ed56e4672",
    "colab": {},
    "colab_type": "code",
    "id": "2yHBqKkZbSNZ"
   },
   "outputs": [],
   "source": [
    "# make predictions\n",
    "y_train_pred = lm.predict(X_train_lm)\n",
    "y_test_pred = lm.predict(X_test_lm)"
   ]
  },
  {
   "cell_type": "code",
   "execution_count": 43,
   "metadata": {
    "cell_id": "00064-0c60e543-b09e-4772-9252-f16b41f22b8d",
    "colab": {
     "base_uri": "https://localhost:8080/",
     "height": 52
    },
    "colab_type": "code",
    "id": "i7X9L6p8ca3i",
    "outputId": "d9c53585-5167-4970-baaa-fec59a28be60"
   },
   "outputs": [
    {
     "name": "stdout",
     "output_type": "stream",
     "text": [
      "Train:  0.81579\n",
      "Test:  0.79210\n"
     ]
    }
   ],
   "source": [
    "#Evaluate the model\n",
    "print(\"Train: % 5.5f\" %r2_score(y_train, y_train_pred))\n",
    "print(\"Test: % 5.5f\" %r2_score(y_test, y_test_pred))"
   ]
  },
  {
   "cell_type": "markdown",
   "metadata": {
    "cell_id": "00065-1cd4ce08-01e3-459f-a816-61a73402a67c",
    "tags": []
   },
   "source": [
    "### We can see Gradient Descent in working"
   ]
  },
  {
   "cell_type": "code",
   "execution_count": 44,
   "metadata": {
    "cell_id": "00064-a9153dd5-c1f4-45cb-9b00-0b88aff45f0a",
    "tags": []
   },
   "outputs": [
    {
     "data": {
      "text/plain": [
       "Pipeline(steps=[('standardscaler', StandardScaler()),\n",
       "                ('sgdregressor', SGDRegressor(max_iter=7143.0))])"
      ]
     },
     "execution_count": 44,
     "metadata": {},
     "output_type": "execute_result"
    }
   ],
   "source": [
    "from sklearn.linear_model import SGDRegressor\n",
    "from sklearn.pipeline import make_pipeline\n",
    "from sklearn.preprocessing import StandardScaler\n",
    "\n",
    "X = X_train_lm\n",
    "y = y_train_lm\n",
    "# Always scale the input. The most convenient way is to use a pipeline.\n",
    "\n",
    "#Good rule of thumb\n",
    "iter = np.ceil(10**6 / len(y))\n",
    "reg = make_pipeline(StandardScaler(),\n",
    "                     SGDRegressor(max_iter=iter, tol=1e-3))\n",
    "reg.fit(X, y)"
   ]
  },
  {
   "cell_type": "code",
   "execution_count": 45,
   "metadata": {
    "cell_id": "00065-474a7499-6f14-4902-923a-6fdc1e04d50b",
    "tags": []
   },
   "outputs": [
    {
     "name": "stdout",
     "output_type": "stream",
     "text": [
      "Train:  0.81578\n",
      "Test:  0.79068\n"
     ]
    }
   ],
   "source": [
    "# make predictions\n",
    "y_train_pred = reg.predict(X_train_lm)\n",
    "y_test_pred = reg.predict(X_test_lm)\n",
    "\n",
    "#Evaluate the model\n",
    "print(\"Train: % 5.5f\" %r2_score(y_train, y_train_pred))\n",
    "print(\"Test: % 5.5f\" %r2_score(y_test, y_test_pred))"
   ]
  },
  {
   "cell_type": "code",
   "execution_count": 40,
   "metadata": {
    "cell_id": "00066-c2031345-2b85-45cf-a880-40ce3781a989",
    "tags": []
   },
   "outputs": [
    {
     "name": "stdout",
     "output_type": "stream",
     "text": [
      "[14.98261018]\n",
      "[5.03606784]\n"
     ]
    }
   ],
   "source": [
    "print(reg[1].intercept_)\n",
    "print(reg[1].coef_)"
   ]
  }
 ],
 "metadata": {
  "colab": {
   "collapsed_sections": [
    "lmszVX16UKB-"
   ],
   "name": "Scholar 2020 SImple Linear Regression in Python .ipynb",
   "provenance": []
  },
  "deepnote_execution_queue": [],
  "deepnote_notebook_id": "bbb3adcd-9d23-4489-a0a4-d4c8a0529c7a",
  "kernelspec": {
   "display_name": "Python 3",
   "language": "python",
   "name": "python3"
  }
 },
 "nbformat": 4,
 "nbformat_minor": 1
}
