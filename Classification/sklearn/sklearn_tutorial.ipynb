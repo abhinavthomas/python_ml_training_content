{
 "cells": [
  {
   "cell_type": "code",
   "execution_count": 1,
   "metadata": {},
   "outputs": [],
   "source": [
    "import pandas as pd"
   ]
  },
  {
   "cell_type": "code",
   "execution_count": 2,
   "metadata": {},
   "outputs": [],
   "source": [
    "df = pd.read_json('data/sentiment/Books_small_10000.json')"
   ]
  },
  {
   "cell_type": "code",
   "execution_count": 3,
   "metadata": {},
   "outputs": [
    {
     "data": {
      "text/html": [
       "<div>\n",
       "<style scoped>\n",
       "    .dataframe tbody tr th:only-of-type {\n",
       "        vertical-align: middle;\n",
       "    }\n",
       "\n",
       "    .dataframe tbody tr th {\n",
       "        vertical-align: top;\n",
       "    }\n",
       "\n",
       "    .dataframe thead th {\n",
       "        text-align: right;\n",
       "    }\n",
       "</style>\n",
       "<table border=\"1\" class=\"dataframe\">\n",
       "  <thead>\n",
       "    <tr style=\"text-align: right;\">\n",
       "      <th></th>\n",
       "      <th>reviewerID</th>\n",
       "      <th>asin</th>\n",
       "      <th>reviewerName</th>\n",
       "      <th>helpful</th>\n",
       "      <th>reviewText</th>\n",
       "      <th>overall</th>\n",
       "      <th>summary</th>\n",
       "      <th>unixReviewTime</th>\n",
       "      <th>reviewTime</th>\n",
       "    </tr>\n",
       "  </thead>\n",
       "  <tbody>\n",
       "    <tr>\n",
       "      <th>0</th>\n",
       "      <td>A1F2H80A1ZNN1N</td>\n",
       "      <td>B00GDM3NQC</td>\n",
       "      <td>Connie Correll</td>\n",
       "      <td>[0, 0]</td>\n",
       "      <td>I bought both boxed sets, books 1-5.  Really a...</td>\n",
       "      <td>5</td>\n",
       "      <td>Can't stop reading!</td>\n",
       "      <td>1390435200</td>\n",
       "      <td>01 23, 2014</td>\n",
       "    </tr>\n",
       "    <tr>\n",
       "      <th>1</th>\n",
       "      <td>AI3DRTKCSK4KX</td>\n",
       "      <td>B00A5MREAM</td>\n",
       "      <td>Grandma</td>\n",
       "      <td>[0, 0]</td>\n",
       "      <td>I enjoyed this short book. But it was way way ...</td>\n",
       "      <td>3</td>\n",
       "      <td>A leaf on the wind of all hallows</td>\n",
       "      <td>1399593600</td>\n",
       "      <td>05 9, 2014</td>\n",
       "    </tr>\n",
       "    <tr>\n",
       "      <th>2</th>\n",
       "      <td>A3KAKFHY9DAC8A</td>\n",
       "      <td>0446547573</td>\n",
       "      <td>toobusyreading \"Inspired Kathy\"</td>\n",
       "      <td>[1, 1]</td>\n",
       "      <td>I love Nicholas Sparks. I&amp;#8217;ve read everyt...</td>\n",
       "      <td>4</td>\n",
       "      <td>Great writing from Nicholas Sparks.</td>\n",
       "      <td>1404518400</td>\n",
       "      <td>07 5, 2014</td>\n",
       "    </tr>\n",
       "    <tr>\n",
       "      <th>3</th>\n",
       "      <td>ATYBCYD6BIXVL</td>\n",
       "      <td>0955809215</td>\n",
       "      <td>Chrissie</td>\n",
       "      <td>[0, 0]</td>\n",
       "      <td>I really enjoyed this adventure and look forwa...</td>\n",
       "      <td>4</td>\n",
       "      <td>great</td>\n",
       "      <td>1389225600</td>\n",
       "      <td>01 9, 2014</td>\n",
       "    </tr>\n",
       "    <tr>\n",
       "      <th>4</th>\n",
       "      <td>A17K95SEU3J68U</td>\n",
       "      <td>0991500776</td>\n",
       "      <td>Sirde \"artist761\"</td>\n",
       "      <td>[0, 0]</td>\n",
       "      <td>It was a decent read.. typical story line. Not...</td>\n",
       "      <td>3</td>\n",
       "      <td>It was a decent read.. typical story line ...</td>\n",
       "      <td>1404864000</td>\n",
       "      <td>07 9, 2014</td>\n",
       "    </tr>\n",
       "  </tbody>\n",
       "</table>\n",
       "</div>"
      ],
      "text/plain": [
       "       reviewerID        asin                     reviewerName helpful  \\\n",
       "0  A1F2H80A1ZNN1N  B00GDM3NQC                   Connie Correll  [0, 0]   \n",
       "1   AI3DRTKCSK4KX  B00A5MREAM                          Grandma  [0, 0]   \n",
       "2  A3KAKFHY9DAC8A  0446547573  toobusyreading \"Inspired Kathy\"  [1, 1]   \n",
       "3   ATYBCYD6BIXVL  0955809215                         Chrissie  [0, 0]   \n",
       "4  A17K95SEU3J68U  0991500776                Sirde \"artist761\"  [0, 0]   \n",
       "\n",
       "                                          reviewText  overall  \\\n",
       "0  I bought both boxed sets, books 1-5.  Really a...        5   \n",
       "1  I enjoyed this short book. But it was way way ...        3   \n",
       "2  I love Nicholas Sparks. I&#8217;ve read everyt...        4   \n",
       "3  I really enjoyed this adventure and look forwa...        4   \n",
       "4  It was a decent read.. typical story line. Not...        3   \n",
       "\n",
       "                                         summary  unixReviewTime   reviewTime  \n",
       "0                            Can't stop reading!      1390435200  01 23, 2014  \n",
       "1              A leaf on the wind of all hallows      1399593600   05 9, 2014  \n",
       "2            Great writing from Nicholas Sparks.      1404518400   07 5, 2014  \n",
       "3                                          great      1389225600   01 9, 2014  \n",
       "4  It was a decent read.. typical story line ...      1404864000   07 9, 2014  "
      ]
     },
     "execution_count": 3,
     "metadata": {},
     "output_type": "execute_result"
    }
   ],
   "source": [
    "df.head()"
   ]
  },
  {
   "cell_type": "code",
   "execution_count": 6,
   "metadata": {},
   "outputs": [],
   "source": [
    "df[\"sentiment\"] = df.apply(lambda x: 'POSITIVE' if x[\"overall\"]>=4 else 'NEUTRAL' if x[\"overall\"]>2 else 'NEGETIVE',axis=1)"
   ]
  },
  {
   "cell_type": "code",
   "execution_count": 8,
   "metadata": {},
   "outputs": [],
   "source": [
    "reviews  = df[[\"reviewText\",\"sentiment\"]]"
   ]
  },
  {
   "cell_type": "code",
   "execution_count": 10,
   "metadata": {},
   "outputs": [],
   "source": [
    "from sklearn.model_selection import train_test_split\n",
    "\n",
    "X_train, X_test, y_train, y_test = train_test_split(reviews[\"reviewText\"],reviews[\"sentiment\"],test_size=0.3,random_state=32)"
   ]
  },
  {
   "cell_type": "code",
   "execution_count": 24,
   "metadata": {},
   "outputs": [],
   "source": [
    "from sklearn.feature_extraction.text import TfidfVectorizer\n",
    "\n",
    "vect = TfidfVectorizer()\n",
    "x_train = vect.fit_transform(X_train)\n",
    "x_test = vect.transform(X_test)"
   ]
  },
  {
   "cell_type": "code",
   "execution_count": 25,
   "metadata": {},
   "outputs": [
    {
     "data": {
      "text/plain": [
       "array(['POSITIVE', 'POSITIVE', 'POSITIVE', ..., 'POSITIVE', 'POSITIVE',\n",
       "       'NEUTRAL'], dtype=object)"
      ]
     },
     "execution_count": 25,
     "metadata": {},
     "output_type": "execute_result"
    }
   ],
   "source": [
    "from sklearn import svm\n",
    "clf = svm.SVC(kernel='linear')\n",
    "\n",
    "clf.fit(x_train,y_train)\n",
    "clf.predict(x_test)"
   ]
  },
  {
   "cell_type": "code",
   "execution_count": 26,
   "metadata": {},
   "outputs": [
    {
     "data": {
      "text/plain": [
       "0.8466666666666667"
      ]
     },
     "execution_count": 26,
     "metadata": {},
     "output_type": "execute_result"
    }
   ],
   "source": [
    "clf.score(x_test,y_test)"
   ]
  },
  {
   "cell_type": "code",
   "execution_count": 30,
   "metadata": {},
   "outputs": [
    {
     "data": {
      "text/plain": [
       "array([0.91999257, 0.14730878, 0.27692308])"
      ]
     },
     "execution_count": 30,
     "metadata": {},
     "output_type": "execute_result"
    }
   ],
   "source": [
    "from sklearn.metrics import f1_score\n",
    "f1_score(y_test,clf.predict(x_test),labels=[\"POSITIVE\",\"NEUTRAL\",\"NEGETIVE\"],average=None)"
   ]
  },
  {
   "cell_type": "code",
   "execution_count": 31,
   "metadata": {},
   "outputs": [],
   "source": [
    "import pickle\n",
    "with open('sentiment_classifier_svm.pkl','wb') as fp:\n",
    "    pickle.dump(clf,fp)"
   ]
  },
  {
   "cell_type": "code",
   "execution_count": null,
   "metadata": {},
   "outputs": [],
   "source": []
  }
 ],
 "metadata": {
  "kernelspec": {
   "display_name": "Python 3",
   "language": "python",
   "name": "python3"
  },
  "language_info": {
   "codemirror_mode": {
    "name": "ipython",
    "version": 3
   },
   "file_extension": ".py",
   "mimetype": "text/x-python",
   "name": "python",
   "nbconvert_exporter": "python",
   "pygments_lexer": "ipython3",
   "version": "3.7.4"
  }
 },
 "nbformat": 4,
 "nbformat_minor": 4
}
